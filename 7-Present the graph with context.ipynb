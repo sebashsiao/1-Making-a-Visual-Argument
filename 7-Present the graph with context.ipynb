{
 "cells": [
  {
   "cell_type": "markdown",
   "id": "6d6594b2",
   "metadata": {},
   "source": [
    "Exercise 7. Present the graph with context"
   ]
  },
  {
   "cell_type": "markdown",
   "id": "46098b11",
   "metadata": {},
   "source": [
    "![img](tapajos_forests.png)"
   ]
  },
  {
   "cell_type": "markdown",
   "id": "56a27199",
   "metadata": {},
   "source": [
    "As a reminder, here’s the context for our graph:\n",
    "* Primary forests are forests that have had no human intervention.\n",
    "* Secondary forests are regrowth forests that have been previously clear-cut or otherwise majorly disrupted by human activity such as logging. \n",
    "* Selectively Logged Forests are forests that are managed with limited extraction."
   ]
  },
  {
   "cell_type": "markdown",
   "id": "079e0e0c",
   "metadata": {},
   "source": [
    "1. Using the bullet points above as a guide for the factual information, write 1-3 sentences to accompany this bar graph. **How do different human interventions, or _no_ human interventions, impact the number and diversity of tree species in different types of Tapajos Forests?** Imagine that the graph will be read with no other context and run the cell when you're done."
   ]
  },
  {
   "cell_type": "markdown",
   "id": "85d2406e",
   "metadata": {
    "deletable": false,
    "tags": [
     "cp1"
    ]
   },
   "source": [
    "#### WRITE YOUR SOLUTION HERE: ##"
   ]
  },
  {
   "cell_type": "markdown",
   "id": "a23bc6cb",
   "metadata": {},
   "source": [
    "Human interventions in the Tapajos forest change the number of species, the tree count of each species, and the composition of the forests. There appears to be more overlap of species in similar proportions in Primary and Selectively Logged forests, while Secondary forests are more substantially different in composition and biodiversity. However, all three forests have at least one genus in their top 5 that the other forests don't have."
   ]
  },
  {
   "cell_type": "markdown",
   "id": "1519edd3",
   "metadata": {},
   "source": [
    "<details>\n",
    "    <summary style=\"display:list-item; font-size:16px; color:blue;\"><i>Compare your context to a model answer:</i></summary>\n",
    "    Human interventions in the Tapajos forests change the number of species, the tree count of each species, and the composition of the forests. There appears to be more overlap of species in similar proprotions in Primary and Selectively Logged forests, while Secondary forests are more substantially different in composition and biodiversity. However, all three forests have at least one genus in their top 5 that the other forests don't have.<br><br>This is just one possible answer that addresses some key takeaways. Yours doesn't have to be identical to provide context! \n",
    "    </details>"
   ]
  },
  {
   "cell_type": "code",
   "execution_count": null,
   "id": "ddf7b387",
   "metadata": {
    "ExecuteTime": {
     "end_time": "2023-12-20T02:18:19.963481Z",
     "start_time": "2023-12-20T02:18:19.931161Z"
    }
   },
   "outputs": [],
   "source": []
  }
 ],
 "metadata": {
  "kernelspec": {
   "display_name": "Python 3 (ipykernel)",
   "language": "python",
   "name": "python3"
  },
  "language_info": {
   "codemirror_mode": {
    "name": "ipython",
    "version": 3
   },
   "file_extension": ".py",
   "mimetype": "text/x-python",
   "name": "python",
   "nbconvert_exporter": "python",
   "pygments_lexer": "ipython3",
   "version": "3.8.10"
  }
 },
 "nbformat": 4,
 "nbformat_minor": 5
}
