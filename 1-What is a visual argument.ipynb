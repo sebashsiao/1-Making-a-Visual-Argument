{
 "cells": [
  {
   "cell_type": "markdown",
   "id": "88594a33",
   "metadata": {},
   "source": [
    "<details><summary style=\"display:list-item; font-size:16px; color:blue;\">Jupyter Help</summary>\n",
    "    \n",
    "Having trouble testing your work? Double-check that you have followed the steps below to write, run, save, and test your code!\n",
    "    \n",
    "[Click here for a walkthrough GIF of the steps below](https://static-assets.codecademy.com/Courses/ds-python/ART.2008.Jupyter.v2.gif)\n",
    "\n",
    "1. Add your solution to the cell with `## YOUR SOLUTION HERE ## `.\n",
    "2. Run the cell by selecting the `Run` button or the `Shift`+`Enter` keys.\n",
    "3. Save your work by selecting the `Save` button or the `command`+`s` keys (Mac) or `control`+`s` keys (Windows).\n",
    "4. Select the `Test Work` button at the bottom left to test your work.\n",
    "\n",
    "![Screenshot of the buttons at the top of a Jupyter Notebook. The Run and Save buttons are highlighted](https://static-assets.codecademy.com/Paths/ds-python/jupyter-buttons.png)"
   ]
  },
  {
   "cell_type": "markdown",
   "id": "43c5de98",
   "metadata": {},
   "source": [
    "Exercise 1: What is a visual argument?"
   ]
  },
  {
   "cell_type": "markdown",
   "id": "bb438e32",
   "metadata": {},
   "source": [
    "#### Setup"
   ]
  },
  {
   "cell_type": "code",
   "execution_count": 11,
   "id": "047d9dc9",
   "metadata": {
    "deletable": false,
    "tags": [
     "setup"
    ],
    "ExecuteTime": {
     "end_time": "2023-12-20T01:14:29.539888Z",
     "start_time": "2023-12-20T01:14:29.312115Z"
    }
   },
   "outputs": [],
   "source": [
    "# import pandas to view our data\n",
    "import pandas as pd\n",
    "# import matplotlib\n",
    "from matplotlib import pyplot as plt\n",
    "\n",
    "# load datasets\n",
    "data = pd.read_csv('Tapajos_inventory_data_2010 - Tapajos_inventory_data_2010.csv')\n",
    "avg_heights = pd.read_csv('average_heights.csv')"
   ]
  },
  {
   "cell_type": "code",
   "execution_count": 12,
   "outputs": [
    {
     "data": {
      "text/plain": "(3390, 16)"
     },
     "execution_count": 12,
     "metadata": {},
     "output_type": "execute_result"
    }
   ],
   "source": [
    "data.shape"
   ],
   "metadata": {
    "collapsed": false,
    "ExecuteTime": {
     "end_time": "2023-12-20T01:14:29.563308Z",
     "start_time": "2023-12-20T01:14:29.353858Z"
    }
   },
   "id": "24164e6573cb3419"
  },
  {
   "cell_type": "markdown",
   "id": "079e0e0c",
   "metadata": {},
   "source": [
    "1. Run the Setup cell above to import the necessary packages and load our datasets. Then, in the cell below, type `data.head()` and run the cell to preview the first five lines of the full dataset."
   ]
  },
  {
   "cell_type": "code",
   "execution_count": 13,
   "id": "b318baec",
   "metadata": {
    "deletable": false,
    "scrolled": true,
    "tags": [
     "cp1"
    ],
    "ExecuteTime": {
     "end_time": "2023-12-20T01:14:29.566237Z",
     "start_time": "2023-12-20T01:14:29.377008Z"
    }
   },
   "outputs": [
    {
     "data": {
      "text/plain": "   plot type origin  tree            family    genus    scientific_name  \\\n0     1   SF     NE     1      Hypericaceae   Vismia  Vismia guianensis   \n1     1   SF     NE     2        Salicaceae   Banara      Banara nitida   \n2     1   SF     NE     3        Salicaceae   Banara      Banara nitida   \n3     1   SF     NE     4        Salicaceae   Banara      Banara nitida   \n4     1   SF     NE     5  Chrysobalanaceae  Couepia        Couepia sp.   \n\n       common_name  density_wood  dbh  ht_crown_base  ht_total  \\\n0     Lacre branco         0.480  5.9            4.5       6.0   \n1  Cabelo de cutia         0.600  7.4            4.5       7.1   \n2  Cabelo de cutia         0.600  6.3            5.0       7.1   \n3  Cabelo de cutia         0.600  5.4            2.3       4.3   \n4           Macucu         0.791  8.1            7.6       9.3   \n\n   CALC_ht_total_cm  depth_crown  stem_x  stem_y  \n0               600          1.5     1.8     5.5  \n1               710          2.6     3.5     7.0  \n2               710          2.1     3.5     0.1  \n3               430          1.9     5.0     5.0  \n4               930          1.7     6.5     1.5  ",
      "text/html": "<div>\n<style scoped>\n    .dataframe tbody tr th:only-of-type {\n        vertical-align: middle;\n    }\n\n    .dataframe tbody tr th {\n        vertical-align: top;\n    }\n\n    .dataframe thead th {\n        text-align: right;\n    }\n</style>\n<table border=\"1\" class=\"dataframe\">\n  <thead>\n    <tr style=\"text-align: right;\">\n      <th></th>\n      <th>plot</th>\n      <th>type</th>\n      <th>origin</th>\n      <th>tree</th>\n      <th>family</th>\n      <th>genus</th>\n      <th>scientific_name</th>\n      <th>common_name</th>\n      <th>density_wood</th>\n      <th>dbh</th>\n      <th>ht_crown_base</th>\n      <th>ht_total</th>\n      <th>CALC_ht_total_cm</th>\n      <th>depth_crown</th>\n      <th>stem_x</th>\n      <th>stem_y</th>\n    </tr>\n  </thead>\n  <tbody>\n    <tr>\n      <th>0</th>\n      <td>1</td>\n      <td>SF</td>\n      <td>NE</td>\n      <td>1</td>\n      <td>Hypericaceae</td>\n      <td>Vismia</td>\n      <td>Vismia guianensis</td>\n      <td>Lacre branco</td>\n      <td>0.480</td>\n      <td>5.9</td>\n      <td>4.5</td>\n      <td>6.0</td>\n      <td>600</td>\n      <td>1.5</td>\n      <td>1.8</td>\n      <td>5.5</td>\n    </tr>\n    <tr>\n      <th>1</th>\n      <td>1</td>\n      <td>SF</td>\n      <td>NE</td>\n      <td>2</td>\n      <td>Salicaceae</td>\n      <td>Banara</td>\n      <td>Banara nitida</td>\n      <td>Cabelo de cutia</td>\n      <td>0.600</td>\n      <td>7.4</td>\n      <td>4.5</td>\n      <td>7.1</td>\n      <td>710</td>\n      <td>2.6</td>\n      <td>3.5</td>\n      <td>7.0</td>\n    </tr>\n    <tr>\n      <th>2</th>\n      <td>1</td>\n      <td>SF</td>\n      <td>NE</td>\n      <td>3</td>\n      <td>Salicaceae</td>\n      <td>Banara</td>\n      <td>Banara nitida</td>\n      <td>Cabelo de cutia</td>\n      <td>0.600</td>\n      <td>6.3</td>\n      <td>5.0</td>\n      <td>7.1</td>\n      <td>710</td>\n      <td>2.1</td>\n      <td>3.5</td>\n      <td>0.1</td>\n    </tr>\n    <tr>\n      <th>3</th>\n      <td>1</td>\n      <td>SF</td>\n      <td>NE</td>\n      <td>4</td>\n      <td>Salicaceae</td>\n      <td>Banara</td>\n      <td>Banara nitida</td>\n      <td>Cabelo de cutia</td>\n      <td>0.600</td>\n      <td>5.4</td>\n      <td>2.3</td>\n      <td>4.3</td>\n      <td>430</td>\n      <td>1.9</td>\n      <td>5.0</td>\n      <td>5.0</td>\n    </tr>\n    <tr>\n      <th>4</th>\n      <td>1</td>\n      <td>SF</td>\n      <td>NE</td>\n      <td>5</td>\n      <td>Chrysobalanaceae</td>\n      <td>Couepia</td>\n      <td>Couepia sp.</td>\n      <td>Macucu</td>\n      <td>0.791</td>\n      <td>8.1</td>\n      <td>7.6</td>\n      <td>9.3</td>\n      <td>930</td>\n      <td>1.7</td>\n      <td>6.5</td>\n      <td>1.5</td>\n    </tr>\n  </tbody>\n</table>\n</div>"
     },
     "execution_count": 13,
     "metadata": {},
     "output_type": "execute_result"
    }
   ],
   "source": [
    "## YOUR SOLUTION HERE ##\n",
    "data.head()    # df shape: (3390, 16)"
   ]
  },
  {
   "cell_type": "markdown",
   "id": "458005d9",
   "metadata": {},
   "source": [
    "The image below demonstrates the difference between `ht_total`, `ht_crown_base`, and `depth_crown`. `density_wood` is the density of that species of wood (a previously established literature value)."
   ]
  },
  {
   "cell_type": "markdown",
   "id": "44efbb01",
   "metadata": {},
   "source": [
    "<img src=\"https://static-assets.codecademy.com/Courses/data-viz-with-python/tree-trunk-diagram.png\" alt=\"`ht_total` refers to the total height of tree: trunk and leaves. `ht_crown_base` refers to the height of the tree's trunk. `depth_crown` refers to the height of the tree's leafy portion.\" width=400 />"
   ]
  },
  {
   "cell_type": "markdown",
   "id": "6a172e5e",
   "metadata": {},
   "source": [
    "2. Type in `avg_heights` and run the cell to see the whole `avg_heights` dataset and compare the two datasets. What do they have in common, and how are they different?"
   ]
  },
  {
   "cell_type": "code",
   "execution_count": 14,
   "id": "e73ed471",
   "metadata": {
    "deletable": false,
    "tags": [
     "cp2"
    ],
    "ExecuteTime": {
     "end_time": "2023-12-20T01:14:29.589884Z",
     "start_time": "2023-12-20T01:14:29.450888Z"
    }
   },
   "outputs": [
    {
     "data": {
      "text/plain": "         family      trunk    leaves  total_height\n0      Fabaceae   8.250478  7.203633     15.450287\n1    Urticaceae   9.109798  4.146398     13.251297\n2    Salicaceae   6.042415  4.763158     10.805263\n3    Annonaceae   7.748108  5.525405     13.270811\n4  Boraginaceae  10.992045  4.327841     15.323295",
      "text/html": "<div>\n<style scoped>\n    .dataframe tbody tr th:only-of-type {\n        vertical-align: middle;\n    }\n\n    .dataframe tbody tr th {\n        vertical-align: top;\n    }\n\n    .dataframe thead th {\n        text-align: right;\n    }\n</style>\n<table border=\"1\" class=\"dataframe\">\n  <thead>\n    <tr style=\"text-align: right;\">\n      <th></th>\n      <th>family</th>\n      <th>trunk</th>\n      <th>leaves</th>\n      <th>total_height</th>\n    </tr>\n  </thead>\n  <tbody>\n    <tr>\n      <th>0</th>\n      <td>Fabaceae</td>\n      <td>8.250478</td>\n      <td>7.203633</td>\n      <td>15.450287</td>\n    </tr>\n    <tr>\n      <th>1</th>\n      <td>Urticaceae</td>\n      <td>9.109798</td>\n      <td>4.146398</td>\n      <td>13.251297</td>\n    </tr>\n    <tr>\n      <th>2</th>\n      <td>Salicaceae</td>\n      <td>6.042415</td>\n      <td>4.763158</td>\n      <td>10.805263</td>\n    </tr>\n    <tr>\n      <th>3</th>\n      <td>Annonaceae</td>\n      <td>7.748108</td>\n      <td>5.525405</td>\n      <td>13.270811</td>\n    </tr>\n    <tr>\n      <th>4</th>\n      <td>Boraginaceae</td>\n      <td>10.992045</td>\n      <td>4.327841</td>\n      <td>15.323295</td>\n    </tr>\n  </tbody>\n</table>\n</div>"
     },
     "execution_count": 14,
     "metadata": {},
     "output_type": "execute_result"
    }
   ],
   "source": [
    "## YOUR SOLUTION HERE ##\n",
    "avg_heights"
   ]
  },
  {
   "cell_type": "markdown",
   "id": "82a95b41",
   "metadata": {},
   "source": [
    "<details>\n",
    "    <summary style=\"display:list-item; font-size:16px; color:blue;\"><i>What do the datasets have in common, and how are they different?</i></summary>\n",
    "While both datasets tell us about the types and size of trees around the Tapajos River in Brazil, `avg_heights` is an aggregated subset of the data in `tree_data`. It takes only five of the families (the 5 most common), and contains only three measures for each family: the average heights of the trunk, the leaf crown, and the full tree. </summary>"
   ]
  }
 ],
 "metadata": {
  "kernelspec": {
   "display_name": "Python 3 (ipykernel)",
   "language": "python",
   "name": "python3"
  },
  "language_info": {
   "codemirror_mode": {
    "name": "ipython",
    "version": 3
   },
   "file_extension": ".py",
   "mimetype": "text/x-python",
   "name": "python",
   "nbconvert_exporter": "python",
   "pygments_lexer": "ipython3",
   "version": "3.8.10"
  }
 },
 "nbformat": 4,
 "nbformat_minor": 5
}
